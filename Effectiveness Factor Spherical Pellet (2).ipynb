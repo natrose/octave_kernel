{
 "cells": [
  {
   "attachments": {
    "A%20to%20B%20reaction.png": {
     "image/png": "[encoded data removed]"
    }
   },
   "cell_type": "markdown",
   "metadata": {},
   "source": [
    "# Calculation of the Effectiveness Factor on a Spherical Particle\n",
    "\n",
    "THis worked out example illustrates the calculation of the effectiveness factor for a spherical particle for arbitrary kinetic expressions (one reaction).\n",
    "\n",
    "<div>\n",
    "<img src=\"attachment:A%20to%20B%20reaction.png\" width=\"300\"/>\n",
    "</div>\n",
    "\n",
    "\n",
    "The material balance is given by:\n",
    "\n",
    "\n",
    "\\begin{equation}{D}_{{A}}~\\nabla^{2}{c}_{{A}}~+{R}_{{A}}=0 \\\\ {D}_{{A}}~{\\frac{1}{{r}^{2}}}~{\\frac{{d}}{{d}{r}}}{\\left({r}^{2}~{\\frac{{d}{c}_{{A}}}{{d}{r}}} \\right)}-{k}~{c}_{{A}}=0 \\\\ \\text{ } \\\\ {c}_{{A}}~=~{c}_{{A}{s}}~~\\begin{matrix}{~}\\\\\n",
    "{~}\n",
    "\\end{matrix}{r}={R} \\\\ {\\frac{{d}{c}_{{A}}}{{d}{r}~}}=0~\\begin{matrix}{~}\\\\\n",
    "{~}\n",
    "\\end{matrix}{r}=0\\end{equation}\n",
    "\n",
    "The equations can be normalized using:\n",
    "\n",
    "\\begin{equation}{a}~=~{\\frac{{V}_{{p}}}{{S}_{{p}}}}={\\frac{{R}}{3}} \\\\ \\text{ } \\\\ \\bar{r}={\\frac{{r}}{{a}}}~~\\begin{matrix}{~}\\\\\n",
    "{~}\n",
    "\\end{matrix}\\bar{c}={\\frac{{c}_{{A}}}{{c}_{{A}{s}}}} \\\\ \\text{ } \\\\ {\\frac{1}{\\bar{r}^{2}}}~{\\frac{{d}}{{d}\\bar{r}}}{\\left(\\bar{r}^{2}~{\\frac{{d}\\bar{c}}{{d}\\bar{r}}} \\right)}-\\Phi^{2}~\\bar{c}=0 \\\\ \\text{ } \\\\ \\bar{c}~=~1~~\\begin{matrix}{~}\\\\\n",
    "{~}\n",
    "\\end{matrix}\\bar{r}=3 \\\\ {\\frac{{d}\\bar{c}}{{d}\\bar{r}~}}=0~\\begin{matrix}{~}\\\\\n",
    "{~}\n",
    "\\end{matrix}\\bar{r}=0 \\\\ \\text{ } \\\\ \\Phi={\\sqrt{{\\frac{{k}~{a}^{2}}{{D}_{{A}}}}}}\\end{equation}\n",
    "\n",
    "\n",
    "In the last expression, $\\Phi$ is called the *Thiele Modulus*\n",
    "\n",
    "---\n",
    "\n",
    "We then import the libraries and functions needed.  *solve_bvp* is the function used to define the boundary value problem."
   ]
  },
  {
   "cell_type": "code",
   "execution_count": 2,
   "metadata": {},
   "outputs": [],
   "source": [
    "import numpy as np\n",
    "from scipy.integrate import solve_bvp\n",
    "import matplotlib.pyplot as plt"
   ]
  },
  {
   "cell_type": "markdown",
   "metadata": {},
   "source": [
    "First Define the Thiele Modulus we will use for the equation"
   ]
  },
  {
   "cell_type": "code",
   "execution_count": 3,
   "metadata": {},
   "outputs": [],
   "source": [
    "Thiele = 5"
   ]
  },
  {
   "cell_type": "markdown",
   "metadata": {},
   "source": [
    "Rewrite the equation as a first-order system and implement its right-hand side evaluation\n",
    "\n",
    "$y_1' = y_2$\n",
    "\n",
    "\n",
    "$y_2' = Thiele^2 * rate(y_1)$"
   ]
  },
  {
   "cell_type": "code",
   "execution_count": 4,
   "metadata": {},
   "outputs": [],
   "source": [
    "def fun(x, y):\n",
    "    r = y[0]/(1+1 * y[0])\n",
    "    return np.vstack((y[1], Thiele**2 * r ))\n",
    "\n",
    "def bc(ya, yb):\n",
    "    return np.array([ya[1], yb[0]-1])"
   ]
  },
  {
   "cell_type": "markdown",
   "metadata": {},
   "source": [
    "Set up the initial conditions and solve the system of equations and boundary conditions\n",
    "\n",
    "Note that because the differential equations have a singular term at $r = 0$, this term is added as a separate element through matrix S, such that S·y(a) = 0.  See the report \"A Friendly Fortran BVP Solver\", by Shampine, Muir and Xu (2006) JNAIAM."
   ]
  },
  {
   "cell_type": "code",
   "execution_count": 5,
   "metadata": {},
   "outputs": [
    {
     "name": "stdout",
     "output_type": "stream",
     "text": [
      "   Iteration    Max residual  Max BC residual  Total nodes    Nodes added  \n",
      "       1          4.59e-02       0.00e+00           5              3       \n",
      "       2          9.47e-03       0.00e+00           8              4       \n",
      "       3          1.25e-03       0.00e+00          12              2       \n",
      "       4          8.00e-04       0.00e+00          14              0       \n",
      "Solved in 4 iterations, number of nodes 14. \n",
      "Maximum relative residual: 8.00e-04 \n",
      "Maximum boundary residual: 0.00e+00\n"
     ]
    }
   ],
   "source": [
    "x = np.linspace(0, 3, 5)     #Initial set of points\n",
    "y_a = np.zeros((2, x.size))  #Guess at the initial points\n",
    "S = np.array([[0.0, 0],      # This is to deal with the 2/x dy/dt term in the differential equation\n",
    "              [0, -2]])\n",
    "\n",
    "res_a = solve_bvp(fun, bc, x, y_a, S=S, verbose=2)"
   ]
  },
  {
   "cell_type": "markdown",
   "metadata": {},
   "source": [
    "## Plot the results"
   ]
  },
  {
   "cell_type": "code",
   "execution_count": 6,
   "metadata": {},
   "outputs": [
    {
     "name": "stdout",
     "output_type": "stream",
     "text": [
      "\n",
      "\n",
      "*** Effectiveness Factor Result ***\n",
      "\n",
      "  Thiele Modulus = 5.00\n",
      "  Effectiveness Factor = 0.1423\n",
      "\n",
      "***********************************\n",
      "\n"
     ]
    },
    {
     "data": {
      "image/png": "[encoded data removed]",
      "text/plain": [
       "<Figure size 432x288 with 1 Axes>"
      ]
     },
     "metadata": {
      "needs_background": "light"
     },
     "output_type": "display_data"
    }
   ],
   "source": [
    "\n",
    "x_plot = np.linspace(0, 3, 100)\n",
    "y_plot = res_a.sol(x_plot)[0]    #Generates values of y[0] for x_plot points\n",
    "\n",
    "plt.plot(x_plot, y_plot, label='y_a')\n",
    "plt.legend()\n",
    "plt.ylim(0, 1)\n",
    "\n",
    "plt.xlabel(\"r (dimensionless)\")\n",
    "plt.ylabel(\"C (dimensionless)\")\n",
    "plt.title(\"Concentration inside Spherical Pellet\")\n",
    "\n",
    "eff_fac = res_a.sol(3)[1] / Thiele**2\n",
    "\n",
    "print(\"\\n\\n*** Effectiveness Factor Result ***\\n\")\n",
    "print(f\"  Thiele Modulus = {Thiele:3.2f}\")\n",
    "print(f\"  Effectiveness Factor = {eff_fac:5.4f}\")\n",
    "print(\"\\n***********************************\\n\")"
   ]
  }
 ],
 "metadata": {
  "kernelspec": {
   "display_name": "Python 3",
   "language": "python",
   "name": "python3"
  },
  "language_info": {
   "codemirror_mode": {
    "name": "ipython",
    "version": 3
   },
   "file_extension": ".py",
   "mimetype": "text/x-python",
   "name": "python",
   "nbconvert_exporter": "python",
   "pygments_lexer": "ipython3",
   "version": "3.8.3"
  }
 },
 "nbformat": 4,
 "nbformat_minor": 4
}
